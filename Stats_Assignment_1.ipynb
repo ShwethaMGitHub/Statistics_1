{
 "cells": [
  {
   "cell_type": "markdown",
   "metadata": {},
   "source": [
    "# Problem Statement 1:\n",
    "You survey households in your area to find the average rent they are paying. Find the\n",
    "standard deviation from the following data:\n",
    "$1550, $1700, $900, $850, $1000, $950."
   ]
  },
  {
   "cell_type": "code",
   "execution_count": 9,
   "metadata": {},
   "outputs": [],
   "source": [
    "from math import sqrt\n",
    "import statistics as stat"
   ]
  },
  {
   "cell_type": "code",
   "execution_count": 10,
   "metadata": {},
   "outputs": [
    {
     "name": "stdout",
     "output_type": "stream",
     "text": [
      "Mean 1158.3333333333333\n",
      "Variance 135416.6666666667\n",
      "Std_dev 367.99003609699366\n"
     ]
    }
   ],
   "source": [
    "def find_mean(arr):\n",
    "    return sum(arr)/len(arr)\n",
    "\n",
    "def find_variance(arr):\n",
    "    variance = 0.0\n",
    "    \n",
    "    mean = find_mean(arr)\n",
    "    variance = sum((x - mean)**2 for x in arr) / (len(arr)-1)\n",
    "    return variance\n",
    "\n",
    "def find_std_dev(arr):\n",
    "    return find_variance(arr)**0.5\n",
    "\n",
    "arr = [1550,1700,900,850,1000,950]\n",
    "\n",
    "print (\"Mean \" + str(find_mean(arr)))\n",
    "print (\"Variance \" + str(find_variance(arr)))\n",
    "print(\"Std_dev \" + str(find_std_dev(arr)))"
   ]
  },
  {
   "cell_type": "markdown",
   "metadata": {},
   "source": [
    "# Problem Statement 2 :\n",
    "Find the variance for the following set of data representing trees in California (heights in\n",
    "feet):\n",
    "3,21,98,203,17,9"
   ]
  },
  {
   "cell_type": "code",
   "execution_count": 12,
   "metadata": {},
   "outputs": [
    {
     "name": "stdout",
     "output_type": "stream",
     "text": [
      "Mean 58.5\n",
      "Variance 6219.9\n",
      "std_dev 78.86634263106157\n"
     ]
    }
   ],
   "source": [
    "heights = [3,21,98,203,17,9]\n",
    "\n",
    "print(str(\"Mean \" + str(stat.mean(heights))))\n",
    "print(str(\"Variance \" + str(stat.variance(heights))))\n",
    "print(str(\"std_dev \" + str(stat.stdev(heights))))"
   ]
  },
  {
   "cell_type": "code",
   "execution_count": null,
   "metadata": {},
   "outputs": [],
   "source": []
  }
 ],
 "metadata": {
  "kernelspec": {
   "display_name": "Python 3",
   "language": "python",
   "name": "python3"
  },
  "language_info": {
   "codemirror_mode": {
    "name": "ipython",
    "version": 3
   },
   "file_extension": ".py",
   "mimetype": "text/x-python",
   "name": "python",
   "nbconvert_exporter": "python",
   "pygments_lexer": "ipython3",
   "version": "3.7.0"
  }
 },
 "nbformat": 4,
 "nbformat_minor": 2
}
